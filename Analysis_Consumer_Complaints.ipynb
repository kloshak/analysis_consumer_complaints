{
  "nbformat": 4,
  "nbformat_minor": 0,
  "metadata": {
    "colab": {
      "name": "Analysis_Consumer_Complaints.ipynb",
      "provenance": [],
      "collapsed_sections": [],
      "authorship_tag": "ABX9TyMKwi9pYV7Tr0EnsB7ZpVCN",
      "include_colab_link": true
    },
    "kernelspec": {
      "name": "python3",
      "display_name": "Python 3"
    }
  },
  "cells": [
    {
      "cell_type": "markdown",
      "metadata": {
        "id": "view-in-github",
        "colab_type": "text"
      },
      "source": [
        "<a href=\"https://colab.research.google.com/github/kloshak/analysis_consumer_complaints/blob/master/Analysis_Consumer_Complaints.ipynb\" target=\"_parent\"><img src=\"https://colab.research.google.com/assets/colab-badge.svg\" alt=\"Open In Colab\"/></a>"
      ]
    },
    {
      "cell_type": "markdown",
      "metadata": {
        "id": "_Lk2FoXl5Rxd",
        "colab_type": "text"
      },
      "source": [
        "#**Background**"
      ]
    },
    {
      "cell_type": "markdown",
      "metadata": {
        "id": "WNXEd0qp6KqJ",
        "colab_type": "text"
      },
      "source": [
        "![alt text](https://www.creditcards.com/credit-card-news/wp-content/uploads/cfpb-anti-regulation-push-in-dc-lg.png)"
      ]
    },
    {
      "cell_type": "markdown",
      "metadata": {
        "id": "PBLydqVg5UhR",
        "colab_type": "text"
      },
      "source": [
        "The **Consumer Financial Protection Bureau (CFPB)** is an agency of the United States government responsible for consumer protection in the financial sector.<br><br>\n",
        "\n",
        "The CFPB has a core mission that drives its activities: “ensure… that markets for consumer financial products and services are fair, transparent, and competitive”. The financial transactions which are its primary concerns are consumer mortgages, personal loans and credit (covering student loans, credit cards, payday lenders and other small credit suppliers). <br><br>\n",
        "\n",
        "The financial institutions under the Bureau’s jurisdiction include banks and credit unions with total assets over $10 billion, mortgage lenders,  and any other consumer financial entity the CFPB considers important within consumer financial services"
      ]
    },
    {
      "cell_type": "markdown",
      "metadata": {
        "id": "XF1DAx3t5YXN",
        "colab_type": "text"
      },
      "source": [
        "![alt text](https://45xu9e1c732l3adqw1hc3k11-wpengine.netdna-ssl.com/wp-content/uploads/2013/05/CFPB-OSA-Complaint-Flow-768x1024.png)"
      ]
    },
    {
      "cell_type": "markdown",
      "metadata": {
        "id": "HKi1-dQsjOL2",
        "colab_type": "text"
      },
      "source": [
        "# **Import pandas**"
      ]
    },
    {
      "cell_type": "code",
      "metadata": {
        "id": "_t9WwAFFLbA5",
        "colab_type": "code",
        "outputId": "9273804c-1f20-426f-ee44-0b52c4252dca",
        "colab": {
          "base_uri": "https://localhost:8080/",
          "height": 35
        }
      },
      "source": [
        "#Import pandas\n",
        "\n",
        "import pandas as pd\n",
        "import numpy as np\n",
        "from scipy import stats\n",
        "import matplotlib.pyplot as plt\n",
        "%matplotlib inline\n",
        "import seaborn as sns\n",
        "\n",
        "#Change plotting colors\n",
        "plt.style.use('ggplot')\n",
        "\n",
        "print('import successful')"
      ],
      "execution_count": 0,
      "outputs": [
        {
          "output_type": "stream",
          "text": [
            "import successful\n"
          ],
          "name": "stdout"
        }
      ]
    },
    {
      "cell_type": "markdown",
      "metadata": {
        "id": "03oNElecO7U2",
        "colab_type": "text"
      },
      "source": [
        "# **Import data**"
      ]
    },
    {
      "cell_type": "code",
      "metadata": {
        "id": "OW5qcRdgLtZF",
        "colab_type": "code",
        "outputId": "aad47d3d-dd8c-4795-ac56-30a4219cac8f",
        "colab": {
          "base_uri": "https://localhost:8080/",
          "height": 443
        }
      },
      "source": [
        "#Import dataset\n",
        "from google.colab import drive\n",
        "drive.mount('/content/gdrive/')\n",
        "\n",
        "complaints_orig = pd.read_csv('/content/gdrive/My Drive/Python122_Katie_Loshak/consumer_complaints.csv')\n",
        "complaints = complaints_orig.copy()\n",
        "\n",
        "#View a sample of the raw data\n",
        "complaints.head(5)"
      ],
      "execution_count": 0,
      "outputs": [
        {
          "output_type": "stream",
          "text": [
            "Drive already mounted at /content/gdrive/; to attempt to forcibly remount, call drive.mount(\"/content/gdrive/\", force_remount=True).\n"
          ],
          "name": "stdout"
        },
        {
          "output_type": "stream",
          "text": [
            "/usr/local/lib/python3.6/dist-packages/IPython/core/interactiveshell.py:2718: DtypeWarning: Columns (5,11) have mixed types. Specify dtype option on import or set low_memory=False.\n",
            "  interactivity=interactivity, compiler=compiler, result=result)\n"
          ],
          "name": "stderr"
        },
        {
          "output_type": "execute_result",
          "data": {
            "text/html": [
              "<div>\n",
              "<style scoped>\n",
              "    .dataframe tbody tr th:only-of-type {\n",
              "        vertical-align: middle;\n",
              "    }\n",
              "\n",
              "    .dataframe tbody tr th {\n",
              "        vertical-align: top;\n",
              "    }\n",
              "\n",
              "    .dataframe thead th {\n",
              "        text-align: right;\n",
              "    }\n",
              "</style>\n",
              "<table border=\"1\" class=\"dataframe\">\n",
              "  <thead>\n",
              "    <tr style=\"text-align: right;\">\n",
              "      <th></th>\n",
              "      <th>date_received</th>\n",
              "      <th>product</th>\n",
              "      <th>sub_product</th>\n",
              "      <th>issue</th>\n",
              "      <th>sub_issue</th>\n",
              "      <th>consumer_complaint_narrative</th>\n",
              "      <th>company_public_response</th>\n",
              "      <th>company</th>\n",
              "      <th>state</th>\n",
              "      <th>zipcode</th>\n",
              "      <th>tags</th>\n",
              "      <th>consumer_consent_provided</th>\n",
              "      <th>submitted_via</th>\n",
              "      <th>date_sent_to_company</th>\n",
              "      <th>company_response_to_consumer</th>\n",
              "      <th>timely_response</th>\n",
              "      <th>consumer_disputed?</th>\n",
              "      <th>complaint_id</th>\n",
              "    </tr>\n",
              "  </thead>\n",
              "  <tbody>\n",
              "    <tr>\n",
              "      <th>0</th>\n",
              "      <td>08/30/2013</td>\n",
              "      <td>Mortgage</td>\n",
              "      <td>Other mortgage</td>\n",
              "      <td>Loan modification,collection,foreclosure</td>\n",
              "      <td>NaN</td>\n",
              "      <td>NaN</td>\n",
              "      <td>NaN</td>\n",
              "      <td>U.S. Bancorp</td>\n",
              "      <td>CA</td>\n",
              "      <td>95993</td>\n",
              "      <td>NaN</td>\n",
              "      <td>NaN</td>\n",
              "      <td>Referral</td>\n",
              "      <td>09/03/2013</td>\n",
              "      <td>Closed with explanation</td>\n",
              "      <td>Yes</td>\n",
              "      <td>Yes</td>\n",
              "      <td>511074</td>\n",
              "    </tr>\n",
              "    <tr>\n",
              "      <th>1</th>\n",
              "      <td>08/30/2013</td>\n",
              "      <td>Mortgage</td>\n",
              "      <td>Other mortgage</td>\n",
              "      <td>Loan servicing, payments, escrow account</td>\n",
              "      <td>NaN</td>\n",
              "      <td>NaN</td>\n",
              "      <td>NaN</td>\n",
              "      <td>Wells Fargo &amp; Company</td>\n",
              "      <td>CA</td>\n",
              "      <td>91104</td>\n",
              "      <td>NaN</td>\n",
              "      <td>NaN</td>\n",
              "      <td>Referral</td>\n",
              "      <td>09/03/2013</td>\n",
              "      <td>Closed with explanation</td>\n",
              "      <td>Yes</td>\n",
              "      <td>Yes</td>\n",
              "      <td>511080</td>\n",
              "    </tr>\n",
              "    <tr>\n",
              "      <th>2</th>\n",
              "      <td>08/30/2013</td>\n",
              "      <td>Credit reporting</td>\n",
              "      <td>NaN</td>\n",
              "      <td>Incorrect information on credit report</td>\n",
              "      <td>Account status</td>\n",
              "      <td>NaN</td>\n",
              "      <td>NaN</td>\n",
              "      <td>Wells Fargo &amp; Company</td>\n",
              "      <td>NY</td>\n",
              "      <td>11764</td>\n",
              "      <td>NaN</td>\n",
              "      <td>NaN</td>\n",
              "      <td>Postal mail</td>\n",
              "      <td>09/18/2013</td>\n",
              "      <td>Closed with explanation</td>\n",
              "      <td>Yes</td>\n",
              "      <td>No</td>\n",
              "      <td>510473</td>\n",
              "    </tr>\n",
              "    <tr>\n",
              "      <th>3</th>\n",
              "      <td>08/30/2013</td>\n",
              "      <td>Student loan</td>\n",
              "      <td>Non-federal student loan</td>\n",
              "      <td>Repaying your loan</td>\n",
              "      <td>Repaying your loan</td>\n",
              "      <td>NaN</td>\n",
              "      <td>NaN</td>\n",
              "      <td>Navient Solutions, Inc.</td>\n",
              "      <td>MD</td>\n",
              "      <td>21402</td>\n",
              "      <td>NaN</td>\n",
              "      <td>NaN</td>\n",
              "      <td>Email</td>\n",
              "      <td>08/30/2013</td>\n",
              "      <td>Closed with explanation</td>\n",
              "      <td>Yes</td>\n",
              "      <td>Yes</td>\n",
              "      <td>510326</td>\n",
              "    </tr>\n",
              "    <tr>\n",
              "      <th>4</th>\n",
              "      <td>08/30/2013</td>\n",
              "      <td>Debt collection</td>\n",
              "      <td>Credit card</td>\n",
              "      <td>False statements or representation</td>\n",
              "      <td>Attempted to collect wrong amount</td>\n",
              "      <td>NaN</td>\n",
              "      <td>NaN</td>\n",
              "      <td>Resurgent Capital Services L.P.</td>\n",
              "      <td>GA</td>\n",
              "      <td>30106</td>\n",
              "      <td>NaN</td>\n",
              "      <td>NaN</td>\n",
              "      <td>Web</td>\n",
              "      <td>08/30/2013</td>\n",
              "      <td>Closed with explanation</td>\n",
              "      <td>Yes</td>\n",
              "      <td>Yes</td>\n",
              "      <td>511067</td>\n",
              "    </tr>\n",
              "  </tbody>\n",
              "</table>\n",
              "</div>"
            ],
            "text/plain": [
              "  date_received           product  ... consumer_disputed? complaint_id\n",
              "0    08/30/2013          Mortgage  ...                Yes       511074\n",
              "1    08/30/2013          Mortgage  ...                Yes       511080\n",
              "2    08/30/2013  Credit reporting  ...                 No       510473\n",
              "3    08/30/2013      Student loan  ...                Yes       510326\n",
              "4    08/30/2013   Debt collection  ...                Yes       511067\n",
              "\n",
              "[5 rows x 18 columns]"
            ]
          },
          "metadata": {
            "tags": []
          },
          "execution_count": 161
        }
      ]
    },
    {
      "cell_type": "markdown",
      "metadata": {
        "id": "HuW0bE_wPHsV",
        "colab_type": "text"
      },
      "source": [
        "# **Problem statement**\n",
        "This project analyzes US Consumer Finance Complaints from 2011 - 2016 to determine trends in complaint volumes over time.\n",
        "\n",
        "**What questions do we have?**\n",
        "\n",
        "I hypothesize that there are trends in US Consumer Finance Complaints. The questions I want to answer are:\n",
        "\n",
        "*   How have the volume of US Consumer Finance Complaints increased or decreased overtime?\n",
        "*   Which months of the year experience highest volumes of US Consumer Finance Complaints? Which experience the least?\n",
        "*   What types of financial products experienced the greatest volume of US Consumer Finance Complaints?\n",
        "\n",
        "\n",
        "These questions will be explored in the sections that follow.<br><br>\n",
        "\n",
        "\n",
        "\n",
        "\n",
        "**Data dictionary**<br>\n",
        "\"product\": Financial product/service, source of complaint\n",
        "\n",
        "\"date_received\": Date the financial complaint was received by the SEC\n",
        "\n",
        "\"Year\": Year the financial complaint was received by the SEC\n",
        "\n",
        "\"Month\": Month the financial complaint was received by the SEC"
      ]
    },
    {
      "cell_type": "markdown",
      "metadata": {
        "id": "-TNJXNhJ_TWL",
        "colab_type": "text"
      },
      "source": [
        "# **Clean data**"
      ]
    },
    {
      "cell_type": "markdown",
      "metadata": {
        "id": "LCNzXI8OnE9p",
        "colab_type": "text"
      },
      "source": [
        "**Null values**"
      ]
    },
    {
      "cell_type": "code",
      "metadata": {
        "id": "5QzRuZB-DXOD",
        "colab_type": "code",
        "outputId": "f11efa69-8585-4d1b-fc93-2406a3687503",
        "colab": {
          "base_uri": "https://localhost:8080/",
          "height": 345
        }
      },
      "source": [
        "#Confirm which fields have null values. Our focus is on the two key variables we will use: date_received and product.\n",
        "complaints.isnull().sum()"
      ],
      "execution_count": 0,
      "outputs": [
        {
          "output_type": "execute_result",
          "data": {
            "text/plain": [
              "date_received                        0\n",
              "product                              0\n",
              "sub_product                     158322\n",
              "issue                                0\n",
              "sub_issue                       343335\n",
              "consumer_complaint_narrative    489151\n",
              "company_public_response         470833\n",
              "company                              0\n",
              "state                             4887\n",
              "zipcode                           4505\n",
              "tags                            477998\n",
              "consumer_consent_provided       432499\n",
              "submitted_via                        0\n",
              "date_sent_to_company                 0\n",
              "company_response_to_consumer         0\n",
              "timely_response                      0\n",
              "consumer_disputed?                   0\n",
              "complaint_id                         0\n",
              "dtype: int64"
            ]
          },
          "metadata": {
            "tags": []
          },
          "execution_count": 162
        }
      ]
    },
    {
      "cell_type": "markdown",
      "metadata": {
        "id": "pLorQlYCcSZ8",
        "colab_type": "text"
      },
      "source": [
        "**Result**: 8 out of 18 variables have null values, including:\n",
        "*sub_product, sub-issue, consumer_complaint_narrative, company_public_response, state, zipcode, tags, consumer_consenst_provided*<br>\n",
        "**Confirmed**: None of our key variables have null values"
      ]
    },
    {
      "cell_type": "code",
      "metadata": {
        "id": "RiUK45ANc0Io",
        "colab_type": "code",
        "outputId": "040ee69f-dc12-4790-e34b-9a813ff0f83b",
        "colab": {
          "base_uri": "https://localhost:8080/",
          "height": 225
        }
      },
      "source": [
        "#Given our only quantitative variable will be \"date received\", we must understand if it's currently in object or date format.\n",
        "complaints['date_received']"
      ],
      "execution_count": 0,
      "outputs": [
        {
          "output_type": "execute_result",
          "data": {
            "text/plain": [
              "0         08/30/2013\n",
              "1         08/30/2013\n",
              "2         08/30/2013\n",
              "3         08/30/2013\n",
              "4         08/30/2013\n",
              "             ...    \n",
              "555952    07/01/2014\n",
              "555953    07/01/2014\n",
              "555954    07/10/2012\n",
              "555955    04/14/2015\n",
              "555956    08/14/2014\n",
              "Name: date_received, Length: 555957, dtype: object"
            ]
          },
          "metadata": {
            "tags": []
          },
          "execution_count": 163
        }
      ]
    },
    {
      "cell_type": "markdown",
      "metadata": {
        "id": "hUnkxWqheUfE",
        "colab_type": "text"
      },
      "source": [
        "**Problem**: Date_received is in object format, but we need it to be in date format in order to plot it over time."
      ]
    },
    {
      "cell_type": "code",
      "metadata": {
        "id": "Sb1cfLtd_tPy",
        "colab_type": "code",
        "outputId": "16c5ccc9-07e7-46c6-876a-3289a5ac8daf",
        "colab": {
          "base_uri": "https://localhost:8080/",
          "height": 407
        }
      },
      "source": [
        "#Update the \"date received\" variable to be in date format. This will allow us to map dates over a period of time.\n",
        "complaints['date_received'] = pd.to_datetime(complaints['date_received']).dt.strftime(\"%Y%m%d\")\n",
        "complaints[['date_received']]"
      ],
      "execution_count": 0,
      "outputs": [
        {
          "output_type": "execute_result",
          "data": {
            "text/html": [
              "<div>\n",
              "<style scoped>\n",
              "    .dataframe tbody tr th:only-of-type {\n",
              "        vertical-align: middle;\n",
              "    }\n",
              "\n",
              "    .dataframe tbody tr th {\n",
              "        vertical-align: top;\n",
              "    }\n",
              "\n",
              "    .dataframe thead th {\n",
              "        text-align: right;\n",
              "    }\n",
              "</style>\n",
              "<table border=\"1\" class=\"dataframe\">\n",
              "  <thead>\n",
              "    <tr style=\"text-align: right;\">\n",
              "      <th></th>\n",
              "      <th>date_received</th>\n",
              "    </tr>\n",
              "  </thead>\n",
              "  <tbody>\n",
              "    <tr>\n",
              "      <th>0</th>\n",
              "      <td>20130830</td>\n",
              "    </tr>\n",
              "    <tr>\n",
              "      <th>1</th>\n",
              "      <td>20130830</td>\n",
              "    </tr>\n",
              "    <tr>\n",
              "      <th>2</th>\n",
              "      <td>20130830</td>\n",
              "    </tr>\n",
              "    <tr>\n",
              "      <th>3</th>\n",
              "      <td>20130830</td>\n",
              "    </tr>\n",
              "    <tr>\n",
              "      <th>4</th>\n",
              "      <td>20130830</td>\n",
              "    </tr>\n",
              "    <tr>\n",
              "      <th>...</th>\n",
              "      <td>...</td>\n",
              "    </tr>\n",
              "    <tr>\n",
              "      <th>555952</th>\n",
              "      <td>20140701</td>\n",
              "    </tr>\n",
              "    <tr>\n",
              "      <th>555953</th>\n",
              "      <td>20140701</td>\n",
              "    </tr>\n",
              "    <tr>\n",
              "      <th>555954</th>\n",
              "      <td>20120710</td>\n",
              "    </tr>\n",
              "    <tr>\n",
              "      <th>555955</th>\n",
              "      <td>20150414</td>\n",
              "    </tr>\n",
              "    <tr>\n",
              "      <th>555956</th>\n",
              "      <td>20140814</td>\n",
              "    </tr>\n",
              "  </tbody>\n",
              "</table>\n",
              "<p>555957 rows × 1 columns</p>\n",
              "</div>"
            ],
            "text/plain": [
              "       date_received\n",
              "0           20130830\n",
              "1           20130830\n",
              "2           20130830\n",
              "3           20130830\n",
              "4           20130830\n",
              "...              ...\n",
              "555952      20140701\n",
              "555953      20140701\n",
              "555954      20120710\n",
              "555955      20150414\n",
              "555956      20140814\n",
              "\n",
              "[555957 rows x 1 columns]"
            ]
          },
          "metadata": {
            "tags": []
          },
          "execution_count": 164
        }
      ]
    },
    {
      "cell_type": "markdown",
      "metadata": {
        "id": "JxPnyxkDhnG7",
        "colab_type": "text"
      },
      "source": [
        "**Solved**: Date is no in the year, month, day format. This format will allow us to sort the data chronologically.<br>\n",
        "**Sort**: Now we will sort the data chronologically. We use inplace to ensure this sort is maintained going forward."
      ]
    },
    {
      "cell_type": "code",
      "metadata": {
        "id": "5zYHoTMwiBjy",
        "colab_type": "code",
        "outputId": "348a7571-535c-453c-925b-1e62ba11021c",
        "colab": {
          "base_uri": "https://localhost:8080/",
          "height": 407
        }
      },
      "source": [
        "#Sort the dataset by this value. \n",
        "complaints.sort_values(by='date_received', inplace=True, ascending=True)\n",
        "complaints[['date_received']]"
      ],
      "execution_count": 0,
      "outputs": [
        {
          "output_type": "execute_result",
          "data": {
            "text/html": [
              "<div>\n",
              "<style scoped>\n",
              "    .dataframe tbody tr th:only-of-type {\n",
              "        vertical-align: middle;\n",
              "    }\n",
              "\n",
              "    .dataframe tbody tr th {\n",
              "        vertical-align: top;\n",
              "    }\n",
              "\n",
              "    .dataframe thead th {\n",
              "        text-align: right;\n",
              "    }\n",
              "</style>\n",
              "<table border=\"1\" class=\"dataframe\">\n",
              "  <thead>\n",
              "    <tr style=\"text-align: right;\">\n",
              "      <th></th>\n",
              "      <th>date_received</th>\n",
              "    </tr>\n",
              "  </thead>\n",
              "  <tbody>\n",
              "    <tr>\n",
              "      <th>441721</th>\n",
              "      <td>20111201</td>\n",
              "    </tr>\n",
              "    <tr>\n",
              "      <th>441746</th>\n",
              "      <td>20111201</td>\n",
              "    </tr>\n",
              "    <tr>\n",
              "      <th>441739</th>\n",
              "      <td>20111201</td>\n",
              "    </tr>\n",
              "    <tr>\n",
              "      <th>441738</th>\n",
              "      <td>20111201</td>\n",
              "    </tr>\n",
              "    <tr>\n",
              "      <th>441730</th>\n",
              "      <td>20111201</td>\n",
              "    </tr>\n",
              "    <tr>\n",
              "      <th>...</th>\n",
              "      <td>...</td>\n",
              "    </tr>\n",
              "    <tr>\n",
              "      <th>529138</th>\n",
              "      <td>20160425</td>\n",
              "    </tr>\n",
              "    <tr>\n",
              "      <th>532706</th>\n",
              "      <td>20160425</td>\n",
              "    </tr>\n",
              "    <tr>\n",
              "      <th>532411</th>\n",
              "      <td>20160425</td>\n",
              "    </tr>\n",
              "    <tr>\n",
              "      <th>524975</th>\n",
              "      <td>20160425</td>\n",
              "    </tr>\n",
              "    <tr>\n",
              "      <th>526564</th>\n",
              "      <td>20160425</td>\n",
              "    </tr>\n",
              "  </tbody>\n",
              "</table>\n",
              "<p>555957 rows × 1 columns</p>\n",
              "</div>"
            ],
            "text/plain": [
              "       date_received\n",
              "441721      20111201\n",
              "441746      20111201\n",
              "441739      20111201\n",
              "441738      20111201\n",
              "441730      20111201\n",
              "...              ...\n",
              "529138      20160425\n",
              "532706      20160425\n",
              "532411      20160425\n",
              "524975      20160425\n",
              "526564      20160425\n",
              "\n",
              "[555957 rows x 1 columns]"
            ]
          },
          "metadata": {
            "tags": []
          },
          "execution_count": 165
        }
      ]
    },
    {
      "cell_type": "markdown",
      "metadata": {
        "id": "j74XFUtQjexN",
        "colab_type": "text"
      },
      "source": [
        "**Problem**: At this point in the data cleaning, we tried to start creating graphs. However, complaint_id, which is the unique ID given to each complaint, was causing the graphs to be skewed given it was another numerical value in this simple dataset. "
      ]
    },
    {
      "cell_type": "code",
      "metadata": {
        "id": "WINAPjZSJaj3",
        "colab_type": "code",
        "outputId": "02ff96ca-00d4-4695-eaf7-b5f9ed4181a9",
        "colab": {
          "base_uri": "https://localhost:8080/",
          "height": 407
        }
      },
      "source": [
        "#Ensure date_received is the only numerical value in the dataset\n",
        "complaints['complaint_id'] = complaints['complaint_id'].astype(str)\n",
        "complaints[['complaint_id']]"
      ],
      "execution_count": 0,
      "outputs": [
        {
          "output_type": "execute_result",
          "data": {
            "text/html": [
              "<div>\n",
              "<style scoped>\n",
              "    .dataframe tbody tr th:only-of-type {\n",
              "        vertical-align: middle;\n",
              "    }\n",
              "\n",
              "    .dataframe tbody tr th {\n",
              "        vertical-align: top;\n",
              "    }\n",
              "\n",
              "    .dataframe thead th {\n",
              "        text-align: right;\n",
              "    }\n",
              "</style>\n",
              "<table border=\"1\" class=\"dataframe\">\n",
              "  <thead>\n",
              "    <tr style=\"text-align: right;\">\n",
              "      <th></th>\n",
              "      <th>complaint_id</th>\n",
              "    </tr>\n",
              "  </thead>\n",
              "  <tbody>\n",
              "    <tr>\n",
              "      <th>441721</th>\n",
              "      <td>2270</td>\n",
              "    </tr>\n",
              "    <tr>\n",
              "      <th>441746</th>\n",
              "      <td>2286</td>\n",
              "    </tr>\n",
              "    <tr>\n",
              "      <th>441739</th>\n",
              "      <td>2280</td>\n",
              "    </tr>\n",
              "    <tr>\n",
              "      <th>441738</th>\n",
              "      <td>2278</td>\n",
              "    </tr>\n",
              "    <tr>\n",
              "      <th>441730</th>\n",
              "      <td>2275</td>\n",
              "    </tr>\n",
              "    <tr>\n",
              "      <th>...</th>\n",
              "      <td>...</td>\n",
              "    </tr>\n",
              "    <tr>\n",
              "      <th>529138</th>\n",
              "      <td>1893345</td>\n",
              "    </tr>\n",
              "    <tr>\n",
              "      <th>532706</th>\n",
              "      <td>1894488</td>\n",
              "    </tr>\n",
              "    <tr>\n",
              "      <th>532411</th>\n",
              "      <td>1893417</td>\n",
              "    </tr>\n",
              "    <tr>\n",
              "      <th>524975</th>\n",
              "      <td>1894072</td>\n",
              "    </tr>\n",
              "    <tr>\n",
              "      <th>526564</th>\n",
              "      <td>1894419</td>\n",
              "    </tr>\n",
              "  </tbody>\n",
              "</table>\n",
              "<p>555957 rows × 1 columns</p>\n",
              "</div>"
            ],
            "text/plain": [
              "       complaint_id\n",
              "441721         2270\n",
              "441746         2286\n",
              "441739         2280\n",
              "441738         2278\n",
              "441730         2275\n",
              "...             ...\n",
              "529138      1893345\n",
              "532706      1894488\n",
              "532411      1893417\n",
              "524975      1894072\n",
              "526564      1894419\n",
              "\n",
              "[555957 rows x 1 columns]"
            ]
          },
          "metadata": {
            "tags": []
          },
          "execution_count": 166
        }
      ]
    },
    {
      "cell_type": "markdown",
      "metadata": {
        "id": "z8Wp2SU6mhb-",
        "colab_type": "text"
      },
      "source": [
        "**Solved**: Complaint_id is now a string variable instead of int, and so it will no longer impact our graphs."
      ]
    },
    {
      "cell_type": "markdown",
      "metadata": {
        "id": "XV92rSt4m7rT",
        "colab_type": "text"
      },
      "source": [
        "#**New variables**"
      ]
    },
    {
      "cell_type": "code",
      "metadata": {
        "id": "4WuSe9ysH5G-",
        "colab_type": "code",
        "colab": {}
      },
      "source": [
        "#Create the \"year\" and \"month\" variables to prepare our time plots.\n",
        "complaints['Year'] = pd.to_datetime(complaints['date_received']).dt.strftime(\"%Y\")\n",
        "complaints['Month'] = pd.to_datetime(complaints['date_received']).dt.strftime(\"%b\")"
      ],
      "execution_count": 0,
      "outputs": []
    },
    {
      "cell_type": "markdown",
      "metadata": {
        "id": "Parr_688pSnP",
        "colab_type": "text"
      },
      "source": [
        "**Confirmed**: We were able to pull year out of the date to create the 'Year' variable for 2011-2016."
      ]
    },
    {
      "cell_type": "code",
      "metadata": {
        "id": "7xAFg2u2fUGt",
        "colab_type": "code",
        "outputId": "c8c00e4d-db1e-4ee4-c000-37aed7b96bc3",
        "colab": {
          "base_uri": "https://localhost:8080/",
          "height": 35
        }
      },
      "source": [
        "complaints['Year'].unique()"
      ],
      "execution_count": 0,
      "outputs": [
        {
          "output_type": "execute_result",
          "data": {
            "text/plain": [
              "array(['2011', '2012', '2013', '2014', '2015', '2016'], dtype=object)"
            ]
          },
          "metadata": {
            "tags": []
          },
          "execution_count": 168
        }
      ]
    },
    {
      "cell_type": "markdown",
      "metadata": {
        "id": "ejfB2LHapl6Z",
        "colab_type": "text"
      },
      "source": [
        "**Confirmed**: We were able to pull month out of the date to create the 'Month' variable for Jan-Dec."
      ]
    },
    {
      "cell_type": "code",
      "metadata": {
        "id": "fHj0Y-U3fGNw",
        "colab_type": "code",
        "outputId": "1330295d-3b8d-40cc-afaf-5e2b4b406f5a",
        "colab": {
          "base_uri": "https://localhost:8080/",
          "height": 52
        }
      },
      "source": [
        "complaints['Month'].unique()"
      ],
      "execution_count": 0,
      "outputs": [
        {
          "output_type": "execute_result",
          "data": {
            "text/plain": [
              "array(['Dec', 'Jan', 'Feb', 'Mar', 'Apr', 'May', 'Jun', 'Jul', 'Aug',\n",
              "       'Sep', 'Oct', 'Nov'], dtype=object)"
            ]
          },
          "metadata": {
            "tags": []
          },
          "execution_count": 169
        }
      ]
    },
    {
      "cell_type": "markdown",
      "metadata": {
        "id": "kOnt5LC1uooi",
        "colab_type": "text"
      },
      "source": [
        "**Confirmed**: There are 11 different types of products that US financial service companies had complaints about. Examples include mortgages, various loans, and credit reports."
      ]
    },
    {
      "cell_type": "code",
      "metadata": {
        "id": "K0Z26VKUumFf",
        "colab_type": "code",
        "outputId": "45fe0cfd-9e96-45f9-f9c7-30219dde3f98",
        "colab": {
          "base_uri": "https://localhost:8080/",
          "height": 35
        }
      },
      "source": [
        "complaints['product'].nunique()"
      ],
      "execution_count": 0,
      "outputs": [
        {
          "output_type": "execute_result",
          "data": {
            "text/plain": [
              "11"
            ]
          },
          "metadata": {
            "tags": []
          },
          "execution_count": 170
        }
      ]
    },
    {
      "cell_type": "code",
      "metadata": {
        "id": "odWdo1zOxuAC",
        "colab_type": "code",
        "outputId": "af5e8b4c-b0cc-41e9-de1c-abbc1cfad783",
        "colab": {
          "base_uri": "https://localhost:8080/",
          "height": 86
        }
      },
      "source": [
        "complaints['product'].unique()"
      ],
      "execution_count": 0,
      "outputs": [
        {
          "output_type": "execute_result",
          "data": {
            "text/plain": [
              "array(['Credit card', 'Mortgage', 'Student loan',\n",
              "       'Bank account or service', 'Consumer Loan', 'Credit reporting',\n",
              "       'Money transfers', 'Debt collection', 'Payday loan',\n",
              "       'Other financial service', 'Prepaid card'], dtype=object)"
            ]
          },
          "metadata": {
            "tags": []
          },
          "execution_count": 171
        }
      ]
    },
    {
      "cell_type": "markdown",
      "metadata": {
        "id": "mN0zXz88u7QD",
        "colab_type": "text"
      },
      "source": [
        "#**Analysis of Complaints**"
      ]
    },
    {
      "cell_type": "markdown",
      "metadata": {
        "id": "CXhOYEwgu_HR",
        "colab_type": "text"
      },
      "source": [
        "**1) How have the volume of US Consumer Finance Complaints increased or decreased overtime?**"
      ]
    },
    {
      "cell_type": "markdown",
      "metadata": {
        "id": "PHnI98acxkRJ",
        "colab_type": "text"
      },
      "source": [
        "*TABLE*\n",
        "\n"
      ]
    },
    {
      "cell_type": "code",
      "metadata": {
        "id": "rMluH-GdwVYV",
        "colab_type": "code",
        "outputId": "9f36a555-edfb-46db-e92a-df404ca4e86a",
        "colab": {
          "base_uri": "https://localhost:8080/",
          "height": 138
        }
      },
      "source": [
        "complaints['Year'].value_counts().sort_index()"
      ],
      "execution_count": 0,
      "outputs": [
        {
          "output_type": "execute_result",
          "data": {
            "text/plain": [
              "2011      2549\n",
              "2012     72523\n",
              "2013    108273\n",
              "2014    153138\n",
              "2015    168621\n",
              "2016     50853\n",
              "Name: Year, dtype: int64"
            ]
          },
          "metadata": {
            "tags": []
          },
          "execution_count": 172
        }
      ]
    },
    {
      "cell_type": "markdown",
      "metadata": {
        "id": "OGuHYVFlxv5l",
        "colab_type": "text"
      },
      "source": [
        "*LINE GRAPH*"
      ]
    },
    {
      "cell_type": "code",
      "metadata": {
        "id": "9na9QAC67Abn",
        "colab_type": "code",
        "outputId": "5ce87013-3e61-406c-bd7b-0c55139fd551",
        "colab": {
          "base_uri": "https://localhost:8080/",
          "height": 285
        }
      },
      "source": [
        "complaints['Year'].value_counts().sort_index().plot(color='darkblue')\n",
        "# ax.plot(complaints['Year'].sort_values(ascending=True, complaints['Year'].sort_values(ascending=True).value_counts());"
      ],
      "execution_count": 0,
      "outputs": [
        {
          "output_type": "execute_result",
          "data": {
            "text/plain": [
              "<matplotlib.axes._subplots.AxesSubplot at 0x7f2940203eb8>"
            ]
          },
          "metadata": {
            "tags": []
          },
          "execution_count": 173
        },
        {
          "output_type": "display_data",
          "data": {
            "image/png": "[encoded data removed]",
            "text/plain": [
              "<Figure size 432x288 with 1 Axes>"
            ]
          },
          "metadata": {
            "tags": []
          }
        }
      ]
    },
    {
      "cell_type": "markdown",
      "metadata": {
        "id": "Yq1icYD_1PmU",
        "colab_type": "text"
      },
      "source": [
        "**Conclusion**: US consumer finance complaints have increased over the past decade, with a peak in **2015**.<br>\n",
        "**Note**: This dataset extends from November 2011 through April 2016. Therefore, **only 1/3 of the 2016 complaints** are factored into this data (only four of the 12 months of the year)<br>\n",
        "**Question**: Can we assume that we can multiply the ~5,000 2016 complaints by 3 to estimate the total 2016 complaints? If we could, it would interestingly enough be the first year that the volume of complaints dropped (from ~17k to ~15k).<br>\n",
        "**However**: In order to know this, it would be helpful to know if the beginning months of the year have the greatest volumes, smallest volumes, or are somewhere in the middle."
      ]
    },
    {
      "cell_type": "markdown",
      "metadata": {
        "id": "E8bdF7HEzNX2",
        "colab_type": "text"
      },
      "source": [
        "**2) Which months of the year experience highest volumes of US Consumer Finance Complaints? Which experience the least?**"
      ]
    },
    {
      "cell_type": "markdown",
      "metadata": {
        "id": "0k-EcP87zNkG",
        "colab_type": "text"
      },
      "source": [
        "*TABLE*"
      ]
    },
    {
      "cell_type": "code",
      "metadata": {
        "id": "Io2Pxa0yy-i4",
        "colab_type": "code",
        "outputId": "53e2fa48-a8c8-4133-d2b1-8fc6a49dbcad",
        "colab": {
          "base_uri": "https://localhost:8080/",
          "height": 242
        }
      },
      "source": [
        "complaints['Month'].value_counts()"
      ],
      "execution_count": 0,
      "outputs": [
        {
          "output_type": "execute_result",
          "data": {
            "text/plain": [
              "Mar    59409\n",
              "Jan    52113\n",
              "Feb    51719\n",
              "Apr    48986\n",
              "Aug    45439\n",
              "Jul    45403\n",
              "Oct    43804\n",
              "Jun    42967\n",
              "Dec    42863\n",
              "Sep    41948\n",
              "May    41680\n",
              "Nov    39626\n",
              "Name: Month, dtype: int64"
            ]
          },
          "metadata": {
            "tags": []
          },
          "execution_count": 174
        }
      ]
    },
    {
      "cell_type": "markdown",
      "metadata": {
        "id": "_9_fIhpGzd2F",
        "colab_type": "text"
      },
      "source": [
        "*BAR GRAPH*"
      ]
    },
    {
      "cell_type": "code",
      "metadata": {
        "id": "pl2gaoWJ1gP5",
        "colab_type": "code",
        "outputId": "f310e05a-5c30-4518-f897-86cb2d66e2f1",
        "colab": {
          "base_uri": "https://localhost:8080/",
          "height": 294
        }
      },
      "source": [
        "complaints['Month'].value_counts().plot(kind='bar', color='darkblue')"
      ],
      "execution_count": 0,
      "outputs": [
        {
          "output_type": "execute_result",
          "data": {
            "text/plain": [
              "<matplotlib.axes._subplots.AxesSubplot at 0x7f293e3d1198>"
            ]
          },
          "metadata": {
            "tags": []
          },
          "execution_count": 175
        },
        {
          "output_type": "display_data",
          "data": {
            "image/png": "[encoded data removed]",
            "text/plain": [
              "<Figure size 432x288 with 1 Axes>"
            ]
          },
          "metadata": {
            "tags": []
          }
        }
      ]
    },
    {
      "cell_type": "markdown",
      "metadata": {
        "id": "eLvARkFm2vLh",
        "colab_type": "text"
      },
      "source": [
        "**Initial conclusion**: The highest volume of US Consumer Finance complaints occur in **March** of each year, on average. Following March for the greatest volumes are January, February, and April, which are the other three months witin the first third of the year. The lowest volumes of complaints occurred in November, May, September, and December, which are mostly in the second half of the year.<br>\n",
        "**Therefore**: We can assume that if we were to multiply the ~5k complaints from the first four months of 2016 by 3 to represent the full year, it could actually be the *maximum possible estimate*.<br>\n",
        "**Final conclusion**: We can insinuiate that US Consumer Finance complaints did go down in 2016 as compared to 2015, which would be the first drop in five years."
      ]
    },
    {
      "cell_type": "markdown",
      "metadata": {
        "id": "jP3KAQiizh5G",
        "colab_type": "text"
      },
      "source": [
        "**3) What types of financial products experienced the greatest volume of US Consumer Finance Complaints?**"
      ]
    },
    {
      "cell_type": "markdown",
      "metadata": {
        "id": "RlARPAoNzs2y",
        "colab_type": "text"
      },
      "source": [
        "*TABLE*"
      ]
    },
    {
      "cell_type": "code",
      "metadata": {
        "id": "vN4usoUOy9H4",
        "colab_type": "code",
        "outputId": "f84a9e11-0b71-497d-f6b1-b3ab4213ffe3",
        "colab": {
          "base_uri": "https://localhost:8080/",
          "height": 225
        }
      },
      "source": [
        "complaints['product'].value_counts()"
      ],
      "execution_count": 0,
      "outputs": [
        {
          "output_type": "execute_result",
          "data": {
            "text/plain": [
              "Mortgage                   186475\n",
              "Debt collection            101052\n",
              "Credit reporting            91854\n",
              "Credit card                 66468\n",
              "Bank account or service     62563\n",
              "Consumer Loan               20990\n",
              "Student loan                15839\n",
              "Payday loan                  3877\n",
              "Money transfers              3812\n",
              "Prepaid card                 2470\n",
              "Other financial service       557\n",
              "Name: product, dtype: int64"
            ]
          },
          "metadata": {
            "tags": []
          },
          "execution_count": 176
        }
      ]
    },
    {
      "cell_type": "markdown",
      "metadata": {
        "id": "ZEn-5kkEzul_",
        "colab_type": "text"
      },
      "source": [
        "*BAR GRAPH*"
      ]
    },
    {
      "cell_type": "code",
      "metadata": {
        "id": "7udck05Y1SgX",
        "colab_type": "code",
        "outputId": "f7894945-a53d-467a-e548-a6ded2b17990",
        "colab": {
          "base_uri": "https://localhost:8080/",
          "height": 394
        }
      },
      "source": [
        "complaints['product'].value_counts().plot(kind='bar', color='darkblue')"
      ],
      "execution_count": 0,
      "outputs": [
        {
          "output_type": "execute_result",
          "data": {
            "text/plain": [
              "<matplotlib.axes._subplots.AxesSubplot at 0x7f293e3d1fd0>"
            ]
          },
          "metadata": {
            "tags": []
          },
          "execution_count": 177
        },
        {
          "output_type": "display_data",
          "data": {
            "image/png": "[encoded data removed]",
            "text/plain": [
              "<Figure size 432x288 with 1 Axes>"
            ]
          },
          "metadata": {
            "tags": []
          }
        }
      ]
    },
    {
      "cell_type": "code",
      "metadata": {
        "id": "ywmKu2m7z5g-",
        "colab_type": "code",
        "outputId": "2b28e199-dda2-4cfc-bc0f-8c89677b0c98",
        "colab": {
          "base_uri": "https://localhost:8080/",
          "height": 35
        }
      },
      "source": [
        "#Calculate percentage of complaints that were related to mortgage products.\n",
        "round((186475 / 555957)*100)"
      ],
      "execution_count": 0,
      "outputs": [
        {
          "output_type": "execute_result",
          "data": {
            "text/plain": [
              "34"
            ]
          },
          "metadata": {
            "tags": []
          },
          "execution_count": 178
        }
      ]
    },
    {
      "cell_type": "markdown",
      "metadata": {
        "id": "UTkX_PG3z0JQ",
        "colab_type": "text"
      },
      "source": [
        "**Initial conclusion**: Mortgages were the topic of over 1/3 US Consumer Finance Complaints between 2011-2016.<br>\n",
        "**Updated, informed conclusion**: The dataset we are using was updated, upgraded, and added to overtime. In March 2013, the Consumer Financial Protection Bureau added mortgage complaints dating back to December 1, 2011, along with bank account and service complaints, student loan complaints, vehicle and other consumer loan\n",
        "complaints, all dating back to March 1, 2012. It is possible that this value is skewed given those 4 additional months."
      ]
    },
    {
      "cell_type": "markdown",
      "metadata": {
        "id": "3TfNv_pC4Brq",
        "colab_type": "text"
      },
      "source": [
        "#**Final conclusions**"
      ]
    },
    {
      "cell_type": "markdown",
      "metadata": {
        "id": "tuyy8_lt4Few",
        "colab_type": "text"
      },
      "source": [
        "\n",
        "1.   US Consumer Financial Complaints have in fact increased over the period of 2011-2015, with its peak in 2015, and with its first drop in 2016.\n",
        "2.   Most complaints are experienced in the beginning of the year, and fewer occur closer to the end of the year.\n",
        "3.   We need additional research to confirm whether most complaints were in fact about mortgages for the time period 2011-2016. It is possible that the data is skewed.\n",
        "\n"
      ]
    },
    {
      "cell_type": "markdown",
      "metadata": {
        "id": "ED3tVJGn9r5-",
        "colab_type": "text"
      },
      "source": [
        "#**Appendix**"
      ]
    },
    {
      "cell_type": "markdown",
      "metadata": {
        "id": "NhO2j2gb9uGO",
        "colab_type": "text"
      },
      "source": [
        "**Greatest volume of complaints by company**"
      ]
    },
    {
      "cell_type": "code",
      "metadata": {
        "id": "IxY5hpnP9lKq",
        "colab_type": "code",
        "outputId": "7381093a-8555-4260-d999-39986fea49d5",
        "colab": {
          "base_uri": "https://localhost:8080/",
          "height": 225
        }
      },
      "source": [
        "complaints['company'].value_counts()"
      ],
      "execution_count": 0,
      "outputs": [
        {
          "output_type": "execute_result",
          "data": {
            "text/plain": [
              "Bank of America                             55998\n",
              "Wells Fargo & Company                       42024\n",
              "JPMorgan Chase & Co.                        33881\n",
              "Equifax                                     31828\n",
              "Experian                                    30905\n",
              "                                            ...  \n",
              "Check First Inc                                 1\n",
              "Dynamic Dedicated Financial Partnerships        1\n",
              "Cawthorn, Deskevich & Gavin, P.c.               1\n",
              "Fink & McGregor Mortgage, LC                    1\n",
              "Delmar Financial Company                        1\n",
              "Name: company, Length: 3605, dtype: int64"
            ]
          },
          "metadata": {
            "tags": []
          },
          "execution_count": 179
        }
      ]
    },
    {
      "cell_type": "markdown",
      "metadata": {
        "id": "yYgw35In9yDl",
        "colab_type": "text"
      },
      "source": [
        "**Greatest volume of complaints by state**"
      ]
    },
    {
      "cell_type": "code",
      "metadata": {
        "id": "5C2-Xawe9JCq",
        "colab_type": "code",
        "outputId": "628249bd-0a1e-4c32-ebb6-7199d6d75035",
        "colab": {
          "base_uri": "https://localhost:8080/",
          "height": 225
        }
      },
      "source": [
        "complaints['state'].value_counts()"
      ],
      "execution_count": 0,
      "outputs": [
        {
          "output_type": "execute_result",
          "data": {
            "text/plain": [
              "CA    81700\n",
              "FL    53673\n",
              "TX    41352\n",
              "NY    38266\n",
              "GA    24548\n",
              "      ...  \n",
              "MH       27\n",
              "MP       19\n",
              "AS       17\n",
              "AA        9\n",
              "PW        9\n",
              "Name: state, Length: 62, dtype: int64"
            ]
          },
          "metadata": {
            "tags": []
          },
          "execution_count": 180
        }
      ]
    }
  ]
}